{
 "cells": [
  {
   "cell_type": "markdown",
   "id": "0b338089",
   "metadata": {},
   "source": [
    "### 使用YOLOv5模型進行物件偵測後，物件的Bounding Box座標、信心指數、類別等資訊可以pandas dataframe格式取出來使用\n",
    "### 本程式碼為熟悉如何取得pandas dataframe內的資訊，方便之後做物體追蹤時調整參數使用"
   ]
  },
  {
   "cell_type": "code",
   "execution_count": 1,
   "id": "arabic-cedar",
   "metadata": {},
   "outputs": [
    {
     "name": "stdout",
     "output_type": "stream",
     "text": [
      "1.8.0\n",
      "CUDA available: True\n",
      "cuDNN version: 8000\n",
      "0.9.0\n"
     ]
    }
   ],
   "source": [
    "import torch\n",
    "import torchvision\n",
    "\n",
    "print(torch.__version__)\n",
    "print('CUDA available: ' + str(torch.cuda.is_available()))\n",
    "print('cuDNN version: ' + str(torch.backends.cudnn.version()))\n",
    "print(torchvision.__version__)"
   ]
  },
  {
   "cell_type": "code",
   "execution_count": 2,
   "id": "pending-seven",
   "metadata": {},
   "outputs": [
    {
     "name": "stderr",
     "output_type": "stream",
     "text": [
      "Downloading: \"https://github.com/ultralytics/yolov5/archive/master.zip\" to /root/.cache/torch/hub/master.zip\n",
      "YOLOv5 🚀 2022-9-28 Python-3.6.9 torch-1.8.0 CUDA:0 (NVIDIA Tegra X1, 3964MiB)\n",
      "\n"
     ]
    },
    {
     "name": "stdout",
     "output_type": "stream",
     "text": [
      "WARNING ⚠️ Python 3.7.0 is required by YOLOv5, but Python 3.6.9 is currently installed\n"
     ]
    },
    {
     "name": "stderr",
     "output_type": "stream",
     "text": [
      "Fusing layers... \n",
      "YOLOv5s summary: 213 layers, 7012822 parameters, 0 gradients, 15.8 GFLOPs\n",
      "Adding AutoShape... \n"
     ]
    }
   ],
   "source": [
    "# 載入自行訓練的 YOLOv5 模型\n",
    "model = torch.hub.load('ultralytics/yolov5', 'custom', path='./models/yolov5s62best.pt', force_reload=True)\n",
    "\n",
    "# 設定 IoU 門檻值\n",
    "model.iou = 0.3\n",
    "\n",
    "# 設定信心門檻值\n",
    "model.conf = 0.5\n"
   ]
  },
  {
   "cell_type": "code",
   "execution_count": 4,
   "id": "critical-mount",
   "metadata": {},
   "outputs": [
    {
     "name": "stdout",
     "output_type": "stream",
     "text": [
      "[[[159 127 152]\n",
      "  [158 126 151]\n",
      "  [161 126 153]\n",
      "  ...\n",
      "  [192 146 168]\n",
      "  [193 147 169]\n",
      "  [193 147 169]]\n",
      "\n",
      " [[157 125 150]\n",
      "  [159 127 152]\n",
      "  [164 129 156]\n",
      "  ...\n",
      "  [192 146 168]\n",
      "  [192 146 168]\n",
      "  [192 146 168]]]\n"
     ]
    }
   ],
   "source": [
    "# 本格為觀察測試相片檔的格式\n",
    "\n",
    "import cv2\n",
    "\n",
    "img = cv2.imread('./test_imgs/5cockroaches.jpg')\n",
    "\n",
    "print(img[:2])"
   ]
  },
  {
   "cell_type": "code",
   "execution_count": 3,
   "id": "addressed-setting",
   "metadata": {},
   "outputs": [
    {
     "name": "stderr",
     "output_type": "stream",
     "text": [
      "image 1/3: 640x640 5 cockroachs\n",
      "image 2/3: 640x640 3 cockroachs\n",
      "image 3/3: 640x640 1 cockroach\n",
      "Speed: 111.6ms pre-process, 251.7ms inference, 136.3ms NMS per image at shape (3, 3, 640, 640)\n"
     ]
    }
   ],
   "source": [
    "# 使用相片來做模型性能檢測\n",
    "\n",
    "img_1 = './test_imgs/5cockroaches.jpg'\n",
    "\n",
    "img_2 = './test_imgs/3cockroaches.jpg'\n",
    "\n",
    "img_3 = './test_imgs/1cockroach.jpg'\n",
    "\n",
    "img = [img_1, img_2, img_3]\n",
    "\n",
    "results = model(img, size=640)\n",
    "\n",
    "results.print()"
   ]
  },
  {
   "cell_type": "code",
   "execution_count": 4,
   "id": "adequate-planning",
   "metadata": {},
   "outputs": [],
   "source": [
    "# 顯示結果圖片\n",
    "results.show()\n",
    "\n",
    "# 儲存結果圖片\n",
    "# results.save()"
   ]
  },
  {
   "cell_type": "code",
   "execution_count": 4,
   "id": "divine-buddy",
   "metadata": {},
   "outputs": [
    {
     "name": "stdout",
     "output_type": "stream",
     "text": [
      "<class 'models.common.Detections'>\n",
      "image 1/3: 640x640 5 cockroachs\n",
      "image 2/3: 640x640 3 cockroachs\n",
      "image 3/3: 640x640 1 cockroach\n",
      "Speed: 111.6ms pre-process, 251.7ms inference, 136.3ms NMS per image at shape (3, 3, 640, 640)\n"
     ]
    }
   ],
   "source": [
    "print(type(results.pandas()))\n",
    "print(results.pandas()) # similiar to results.print()"
   ]
  },
  {
   "cell_type": "code",
   "execution_count": 5,
   "id": "devoted-timing",
   "metadata": {},
   "outputs": [
    {
     "name": "stdout",
     "output_type": "stream",
     "text": [
      "<class 'list'>\n"
     ]
    },
    {
     "data": {
      "text/plain": [
       "[         xmin        ymin        xmax        ymax  confidence  class  \\\n",
       " 0  207.430054  329.806702  316.076477  476.015259    0.979864      0   \n",
       " 1  311.979156  367.455566  374.265045  458.926941    0.968334      0   \n",
       " 2  283.701477  537.404480  347.313232  633.743225    0.963639      0   \n",
       " 3  344.364471  535.396790  433.650665  590.953674    0.918541      0   \n",
       " 4  398.444672  441.185120  479.062286  498.900208    0.859740      0   \n",
       " \n",
       "         name  \n",
       " 0  cockroach  \n",
       " 1  cockroach  \n",
       " 2  cockroach  \n",
       " 3  cockroach  \n",
       " 4  cockroach  ,\n",
       "          xmin        ymin        xmax        ymax  confidence  class  \\\n",
       " 0   38.721588  405.205261  186.911163  570.466919    0.981878      0   \n",
       " 1  283.064148  264.411957  352.872009  355.525604    0.967315      0   \n",
       " 2  209.250183  350.465637  581.949829  601.244812    0.963974      0   \n",
       " \n",
       "         name  \n",
       " 0  cockroach  \n",
       " 1  cockroach  \n",
       " 2  cockroach  ,\n",
       "         xmin        ymin        xmax        ymax  confidence  class       name\n",
       " 0  10.204041  216.178925  114.700584  270.481476    0.968994      0  cockroach]"
      ]
     },
     "execution_count": 5,
     "metadata": {},
     "output_type": "execute_result"
    }
   ],
   "source": [
    "print(type(results.pandas().xyxy))\n",
    "results.pandas().xyxy"
   ]
  },
  {
   "cell_type": "code",
   "execution_count": 6,
   "id": "billion-commission",
   "metadata": {},
   "outputs": [
    {
     "name": "stdout",
     "output_type": "stream",
     "text": [
      "         xmin        ymin        xmax        ymax  confidence  class  \\\n",
      "0  207.430054  329.806702  316.076477  476.015259    0.979864      0   \n",
      "1  311.979156  367.455566  374.265045  458.926941    0.968334      0   \n",
      "2  283.701477  537.404480  347.313232  633.743225    0.963639      0   \n",
      "3  344.364471  535.396790  433.650665  590.953674    0.918541      0   \n",
      "4  398.444672  441.185120  479.062286  498.900208    0.859740      0   \n",
      "\n",
      "        name  \n",
      "0  cockroach  \n",
      "1  cockroach  \n",
      "2  cockroach  \n",
      "3  cockroach  \n",
      "4  cockroach  \n",
      "--------------------------------------------------\n",
      "         xmin        ymin        xmax        ymax  confidence  class  \\\n",
      "0   38.721588  405.205261  186.911163  570.466919    0.981878      0   \n",
      "1  283.064148  264.411957  352.872009  355.525604    0.967315      0   \n",
      "2  209.250183  350.465637  581.949829  601.244812    0.963974      0   \n",
      "\n",
      "        name  \n",
      "0  cockroach  \n",
      "1  cockroach  \n",
      "2  cockroach  \n",
      "--------------------------------------------------\n",
      "        xmin        ymin        xmax        ymax  confidence  class       name\n",
      "0  10.204041  216.178925  114.700584  270.481476    0.968994      0  cockroach\n",
      "--------------------------------------------------\n"
     ]
    }
   ],
   "source": [
    "for i in results.pandas().xyxy:\n",
    "    print(i)\n",
    "    print('-' * 50)"
   ]
  },
  {
   "cell_type": "code",
   "execution_count": 7,
   "id": "compound-thought",
   "metadata": {},
   "outputs": [
    {
     "data": {
      "text/html": [
       "<div>\n",
       "<style scoped>\n",
       "    .dataframe tbody tr th:only-of-type {\n",
       "        vertical-align: middle;\n",
       "    }\n",
       "\n",
       "    .dataframe tbody tr th {\n",
       "        vertical-align: top;\n",
       "    }\n",
       "\n",
       "    .dataframe thead th {\n",
       "        text-align: right;\n",
       "    }\n",
       "</style>\n",
       "<table border=\"1\" class=\"dataframe\">\n",
       "  <thead>\n",
       "    <tr style=\"text-align: right;\">\n",
       "      <th></th>\n",
       "      <th>xmin</th>\n",
       "      <th>ymin</th>\n",
       "      <th>xmax</th>\n",
       "      <th>ymax</th>\n",
       "      <th>confidence</th>\n",
       "      <th>class</th>\n",
       "      <th>name</th>\n",
       "    </tr>\n",
       "  </thead>\n",
       "  <tbody>\n",
       "    <tr>\n",
       "      <th>0</th>\n",
       "      <td>207.430054</td>\n",
       "      <td>329.806702</td>\n",
       "      <td>316.076477</td>\n",
       "      <td>476.015259</td>\n",
       "      <td>0.979864</td>\n",
       "      <td>0</td>\n",
       "      <td>cockroach</td>\n",
       "    </tr>\n",
       "    <tr>\n",
       "      <th>1</th>\n",
       "      <td>311.979156</td>\n",
       "      <td>367.455566</td>\n",
       "      <td>374.265045</td>\n",
       "      <td>458.926941</td>\n",
       "      <td>0.968334</td>\n",
       "      <td>0</td>\n",
       "      <td>cockroach</td>\n",
       "    </tr>\n",
       "    <tr>\n",
       "      <th>2</th>\n",
       "      <td>283.701477</td>\n",
       "      <td>537.404480</td>\n",
       "      <td>347.313232</td>\n",
       "      <td>633.743225</td>\n",
       "      <td>0.963639</td>\n",
       "      <td>0</td>\n",
       "      <td>cockroach</td>\n",
       "    </tr>\n",
       "    <tr>\n",
       "      <th>3</th>\n",
       "      <td>344.364471</td>\n",
       "      <td>535.396790</td>\n",
       "      <td>433.650665</td>\n",
       "      <td>590.953674</td>\n",
       "      <td>0.918541</td>\n",
       "      <td>0</td>\n",
       "      <td>cockroach</td>\n",
       "    </tr>\n",
       "    <tr>\n",
       "      <th>4</th>\n",
       "      <td>398.444672</td>\n",
       "      <td>441.185120</td>\n",
       "      <td>479.062286</td>\n",
       "      <td>498.900208</td>\n",
       "      <td>0.859740</td>\n",
       "      <td>0</td>\n",
       "      <td>cockroach</td>\n",
       "    </tr>\n",
       "  </tbody>\n",
       "</table>\n",
       "</div>"
      ],
      "text/plain": [
       "         xmin        ymin        xmax        ymax  confidence  class  \\\n",
       "0  207.430054  329.806702  316.076477  476.015259    0.979864      0   \n",
       "1  311.979156  367.455566  374.265045  458.926941    0.968334      0   \n",
       "2  283.701477  537.404480  347.313232  633.743225    0.963639      0   \n",
       "3  344.364471  535.396790  433.650665  590.953674    0.918541      0   \n",
       "4  398.444672  441.185120  479.062286  498.900208    0.859740      0   \n",
       "\n",
       "        name  \n",
       "0  cockroach  \n",
       "1  cockroach  \n",
       "2  cockroach  \n",
       "3  cockroach  \n",
       "4  cockroach  "
      ]
     },
     "execution_count": 7,
     "metadata": {},
     "output_type": "execute_result"
    }
   ],
   "source": [
    "results.pandas().xyxy[0]"
   ]
  },
  {
   "cell_type": "code",
   "execution_count": 9,
   "id": "otherwise-reunion",
   "metadata": {},
   "outputs": [
    {
     "name": "stdout",
     "output_type": "stream",
     "text": [
      "         xmin        ymin        xmax        ymax  confidence  class  \\\n",
      "0  207.430054  329.806702  316.076477  476.015259    0.979864      0   \n",
      "1  311.979156  367.455566  374.265045  458.926941    0.968334      0   \n",
      "2  283.701477  537.404480  347.313232  633.743225    0.963639      0   \n",
      "3  344.364471  535.396790  433.650665  590.953674    0.918541      0   \n",
      "4  398.444672  441.185120  479.062286  498.900208    0.859740      0   \n",
      "\n",
      "        name  \n",
      "0  cockroach  \n",
      "1  cockroach  \n",
      "2  cockroach  \n",
      "3  cockroach  \n",
      "4  cockroach  \n",
      "xmin             207.43\n",
      "ymin            329.807\n",
      "xmax            316.076\n",
      "ymax            476.015\n",
      "confidence     0.979864\n",
      "class                 0\n",
      "name          cockroach\n",
      "Name: 0, dtype: object\n"
     ]
    }
   ],
   "source": [
    "matching_df = results.pandas().xyxy[0]\n",
    "\n",
    "filter = (matching_df['name'] == 'cockroach')\n",
    "matching_df = matching_df[filter]\n",
    "print(matching_df)\n",
    "matching_detections = matching_df.loc[0]\n",
    "print(matching_detections)"
   ]
  },
  {
   "cell_type": "code",
   "execution_count": 10,
   "id": "third-newton",
   "metadata": {},
   "outputs": [
    {
     "data": {
      "text/plain": [
       "5"
      ]
     },
     "execution_count": 10,
     "metadata": {},
     "output_type": "execute_result"
    }
   ],
   "source": [
    "len(results.pandas().xyxy[0].index)"
   ]
  },
  {
   "cell_type": "code",
   "execution_count": 11,
   "id": "baking-appeal",
   "metadata": {},
   "outputs": [
    {
     "data": {
      "text/html": [
       "<div>\n",
       "<style scoped>\n",
       "    .dataframe tbody tr th:only-of-type {\n",
       "        vertical-align: middle;\n",
       "    }\n",
       "\n",
       "    .dataframe tbody tr th {\n",
       "        vertical-align: top;\n",
       "    }\n",
       "\n",
       "    .dataframe thead th {\n",
       "        text-align: right;\n",
       "    }\n",
       "</style>\n",
       "<table border=\"1\" class=\"dataframe\">\n",
       "  <thead>\n",
       "    <tr style=\"text-align: right;\">\n",
       "      <th></th>\n",
       "      <th>xmin</th>\n",
       "      <th>ymin</th>\n",
       "      <th>xmax</th>\n",
       "      <th>ymax</th>\n",
       "      <th>confidence</th>\n",
       "      <th>class</th>\n",
       "      <th>name</th>\n",
       "    </tr>\n",
       "  </thead>\n",
       "  <tbody>\n",
       "    <tr>\n",
       "      <th>0</th>\n",
       "      <td>38.721588</td>\n",
       "      <td>405.205261</td>\n",
       "      <td>186.911163</td>\n",
       "      <td>570.466919</td>\n",
       "      <td>0.981878</td>\n",
       "      <td>0</td>\n",
       "      <td>cockroach</td>\n",
       "    </tr>\n",
       "    <tr>\n",
       "      <th>1</th>\n",
       "      <td>283.064148</td>\n",
       "      <td>264.411957</td>\n",
       "      <td>352.872009</td>\n",
       "      <td>355.525604</td>\n",
       "      <td>0.967315</td>\n",
       "      <td>0</td>\n",
       "      <td>cockroach</td>\n",
       "    </tr>\n",
       "    <tr>\n",
       "      <th>2</th>\n",
       "      <td>209.250183</td>\n",
       "      <td>350.465637</td>\n",
       "      <td>581.949829</td>\n",
       "      <td>601.244812</td>\n",
       "      <td>0.963974</td>\n",
       "      <td>0</td>\n",
       "      <td>cockroach</td>\n",
       "    </tr>\n",
       "  </tbody>\n",
       "</table>\n",
       "</div>"
      ],
      "text/plain": [
       "         xmin        ymin        xmax        ymax  confidence  class  \\\n",
       "0   38.721588  405.205261  186.911163  570.466919    0.981878      0   \n",
       "1  283.064148  264.411957  352.872009  355.525604    0.967315      0   \n",
       "2  209.250183  350.465637  581.949829  601.244812    0.963974      0   \n",
       "\n",
       "        name  \n",
       "0  cockroach  \n",
       "1  cockroach  \n",
       "2  cockroach  "
      ]
     },
     "execution_count": 11,
     "metadata": {},
     "output_type": "execute_result"
    }
   ],
   "source": [
    "results.pandas().xyxy[1]"
   ]
  },
  {
   "cell_type": "code",
   "execution_count": 12,
   "id": "searching-incidence",
   "metadata": {},
   "outputs": [
    {
     "data": {
      "text/html": [
       "<div>\n",
       "<style scoped>\n",
       "    .dataframe tbody tr th:only-of-type {\n",
       "        vertical-align: middle;\n",
       "    }\n",
       "\n",
       "    .dataframe tbody tr th {\n",
       "        vertical-align: top;\n",
       "    }\n",
       "\n",
       "    .dataframe thead th {\n",
       "        text-align: right;\n",
       "    }\n",
       "</style>\n",
       "<table border=\"1\" class=\"dataframe\">\n",
       "  <thead>\n",
       "    <tr style=\"text-align: right;\">\n",
       "      <th></th>\n",
       "      <th>xmin</th>\n",
       "      <th>ymin</th>\n",
       "      <th>xmax</th>\n",
       "      <th>ymax</th>\n",
       "      <th>confidence</th>\n",
       "      <th>class</th>\n",
       "      <th>name</th>\n",
       "    </tr>\n",
       "  </thead>\n",
       "  <tbody>\n",
       "    <tr>\n",
       "      <th>0</th>\n",
       "      <td>10.204041</td>\n",
       "      <td>216.178925</td>\n",
       "      <td>114.700584</td>\n",
       "      <td>270.481476</td>\n",
       "      <td>0.968994</td>\n",
       "      <td>0</td>\n",
       "      <td>cockroach</td>\n",
       "    </tr>\n",
       "  </tbody>\n",
       "</table>\n",
       "</div>"
      ],
      "text/plain": [
       "        xmin        ymin        xmax        ymax  confidence  class       name\n",
       "0  10.204041  216.178925  114.700584  270.481476    0.968994      0  cockroach"
      ]
     },
     "execution_count": 12,
     "metadata": {},
     "output_type": "execute_result"
    }
   ],
   "source": [
    "results.pandas().xyxy[2]"
   ]
  },
  {
   "cell_type": "code",
   "execution_count": 14,
   "id": "indoor-hollywood",
   "metadata": {},
   "outputs": [
    {
     "data": {
      "application/vnd.jupyter.widget-view+json": {
       "model_id": "b63e7523494c423f92a1e9790842d58e",
       "version_major": 2,
       "version_minor": 0
      },
      "text/plain": [
       "Textarea(value='         xmin        ymin        xmax        ymax  confidence  class  \\\\\\n0  207.430054  329.8…"
      ]
     },
     "metadata": {},
     "output_type": "display_data"
    }
   ],
   "source": [
    "from IPython.display import display\n",
    "import ipywidgets.widgets as widgets\n",
    "\n",
    "detections_widget = widgets.Textarea()\n",
    "\n",
    "detections_widget.value = str(results.pandas().xyxy[0])\n",
    "\n",
    "display(detections_widget)"
   ]
  },
  {
   "cell_type": "code",
   "execution_count": 15,
   "id": "prepared-alarm",
   "metadata": {},
   "outputs": [
    {
     "name": "stdout",
     "output_type": "stream",
     "text": [
      "0    cockroach\n",
      "1    cockroach\n",
      "2    cockroach\n",
      "3    cockroach\n",
      "4    cockroach\n",
      "Name: name, dtype: object\n",
      "--------------------------------------------------\n",
      "0    207.430054\n",
      "1    311.979156\n",
      "2    283.701477\n",
      "3    344.364471\n",
      "4    398.444672\n",
      "Name: xmin, dtype: float64\n",
      "--------------------------------------------------\n"
     ]
    },
    {
     "data": {
      "text/html": [
       "<div>\n",
       "<style scoped>\n",
       "    .dataframe tbody tr th:only-of-type {\n",
       "        vertical-align: middle;\n",
       "    }\n",
       "\n",
       "    .dataframe tbody tr th {\n",
       "        vertical-align: top;\n",
       "    }\n",
       "\n",
       "    .dataframe thead th {\n",
       "        text-align: right;\n",
       "    }\n",
       "</style>\n",
       "<table border=\"1\" class=\"dataframe\">\n",
       "  <thead>\n",
       "    <tr style=\"text-align: right;\">\n",
       "      <th></th>\n",
       "      <th>xmin</th>\n",
       "      <th>ymin</th>\n",
       "      <th>xmax</th>\n",
       "      <th>ymax</th>\n",
       "      <th>confidence</th>\n",
       "      <th>class</th>\n",
       "      <th>name</th>\n",
       "    </tr>\n",
       "  </thead>\n",
       "  <tbody>\n",
       "    <tr>\n",
       "      <th>0</th>\n",
       "      <td>207.430054</td>\n",
       "      <td>329.806702</td>\n",
       "      <td>316.076477</td>\n",
       "      <td>476.015259</td>\n",
       "      <td>0.979864</td>\n",
       "      <td>0</td>\n",
       "      <td>cockroach</td>\n",
       "    </tr>\n",
       "    <tr>\n",
       "      <th>1</th>\n",
       "      <td>311.979156</td>\n",
       "      <td>367.455566</td>\n",
       "      <td>374.265045</td>\n",
       "      <td>458.926941</td>\n",
       "      <td>0.968334</td>\n",
       "      <td>0</td>\n",
       "      <td>cockroach</td>\n",
       "    </tr>\n",
       "    <tr>\n",
       "      <th>2</th>\n",
       "      <td>283.701477</td>\n",
       "      <td>537.404480</td>\n",
       "      <td>347.313232</td>\n",
       "      <td>633.743225</td>\n",
       "      <td>0.963639</td>\n",
       "      <td>0</td>\n",
       "      <td>cockroach</td>\n",
       "    </tr>\n",
       "    <tr>\n",
       "      <th>3</th>\n",
       "      <td>344.364471</td>\n",
       "      <td>535.396790</td>\n",
       "      <td>433.650665</td>\n",
       "      <td>590.953674</td>\n",
       "      <td>0.918541</td>\n",
       "      <td>0</td>\n",
       "      <td>cockroach</td>\n",
       "    </tr>\n",
       "    <tr>\n",
       "      <th>4</th>\n",
       "      <td>398.444672</td>\n",
       "      <td>441.185120</td>\n",
       "      <td>479.062286</td>\n",
       "      <td>498.900208</td>\n",
       "      <td>0.859740</td>\n",
       "      <td>0</td>\n",
       "      <td>cockroach</td>\n",
       "    </tr>\n",
       "  </tbody>\n",
       "</table>\n",
       "</div>"
      ],
      "text/plain": [
       "         xmin        ymin        xmax        ymax  confidence  class  \\\n",
       "0  207.430054  329.806702  316.076477  476.015259    0.979864      0   \n",
       "1  311.979156  367.455566  374.265045  458.926941    0.968334      0   \n",
       "2  283.701477  537.404480  347.313232  633.743225    0.963639      0   \n",
       "3  344.364471  535.396790  433.650665  590.953674    0.918541      0   \n",
       "4  398.444672  441.185120  479.062286  498.900208    0.859740      0   \n",
       "\n",
       "        name  \n",
       "0  cockroach  \n",
       "1  cockroach  \n",
       "2  cockroach  \n",
       "3  cockroach  \n",
       "4  cockroach  "
      ]
     },
     "execution_count": 15,
     "metadata": {},
     "output_type": "execute_result"
    }
   ],
   "source": [
    "# 第一張照片的所有BBOX資訊\n",
    "detections_0 = results.pandas().xyxy[0]\n",
    "# print(detections_0)\n",
    "# print(type(detections_0))  # <class 'pandas.core.frame.DataFrame'>\n",
    "\n",
    "class_name = detections_0['name']\n",
    "print(class_name)\n",
    "print(\"-\" * 50)\n",
    "\n",
    "xmin = detections_0['xmin']\n",
    "print(xmin)\n",
    "print(\"-\" * 50)\n",
    "\n",
    "detections_0"
   ]
  },
  {
   "cell_type": "code",
   "execution_count": 15,
   "id": "overall-setup",
   "metadata": {},
   "outputs": [
    {
     "name": "stdout",
     "output_type": "stream",
     "text": [
      "         xmin        ymin        xmax        ymax  confidence  class  \\\n",
      "0  207.430054  329.806702  316.076477  476.015259    0.979864      0   \n",
      "1  311.979156  367.455566  374.265045  458.926941    0.968334      0   \n",
      "2  283.701477  537.404480  347.313232  633.743225    0.963639      0   \n",
      "3  344.364471  535.396790  433.650665  590.953674    0.918541      0   \n",
      "4  398.444672  441.185120  479.062286  498.900208    0.859740      0   \n",
      "\n",
      "        name  \n",
      "0  cockroach  \n",
      "1  cockroach  \n",
      "2  cockroach  \n",
      "3  cockroach  \n",
      "4  cockroach  \n"
     ]
    }
   ],
   "source": [
    "# 預設取出資料已透過confidence做降冪排序, 不需要額外排序\n",
    "\n",
    "print(detections_0.sort_values(by='confidence', ascending=False))"
   ]
  },
  {
   "cell_type": "code",
   "execution_count": 16,
   "id": "industrial-favor",
   "metadata": {},
   "outputs": [
    {
     "name": "stdout",
     "output_type": "stream",
     "text": [
      "xmin             207.43\n",
      "ymin            329.807\n",
      "xmax            316.076\n",
      "ymax            476.015\n",
      "confidence     0.979864\n",
      "class                 0\n",
      "name          cockroach\n",
      "Name: 0, dtype: object\n"
     ]
    }
   ],
   "source": [
    "# 取出第一張照片中confidence最高的BBOX資訊\n",
    "HighestConfidenceResult = detections_0.loc[0]\n",
    "print(HighestConfidenceResult)\n",
    "# print(type(HighestConfidenceResult))  # <class 'pandas.core.series.Series'>"
   ]
  },
  {
   "cell_type": "code",
   "execution_count": 27,
   "id": "liable-encyclopedia",
   "metadata": {},
   "outputs": [
    {
     "name": "stdout",
     "output_type": "stream",
     "text": [
      "207\n",
      "316\n",
      "329\n",
      "476\n",
      "<class 'numpy.float64'>\n",
      "<class 'int'>\n"
     ]
    }
   ],
   "source": [
    "xmin = int(HighestConfidenceResult['xmin'])\n",
    "xmax = int(HighestConfidenceResult['xmax'])\n",
    "print(xmin)\n",
    "print(xmax)\n",
    "\n",
    "ymin = int(HighestConfidenceResult['ymin'])\n",
    "ymax = int(HighestConfidenceResult['ymax'])\n",
    "print(ymin)\n",
    "print(ymax)\n",
    "\n",
    "print(type(HighestConfidenceResult['xmin']))\n",
    "print(type(xmin))"
   ]
  },
  {
   "cell_type": "code",
   "execution_count": 35,
   "id": "returning-delaware",
   "metadata": {},
   "outputs": [
    {
     "name": "stdout",
     "output_type": "stream",
     "text": [
      "261\n"
     ]
    }
   ],
   "source": [
    "# 找出中心點的x\n",
    "w = xmax - xmin\n",
    "central_x = int(xmin + (w/2))\n",
    "print(central_x)"
   ]
  },
  {
   "cell_type": "code",
   "execution_count": 36,
   "id": "compound-minneapolis",
   "metadata": {},
   "outputs": [
    {
     "name": "stdout",
     "output_type": "stream",
     "text": [
      "402\n"
     ]
    }
   ],
   "source": [
    "# 找出中心點的y\n",
    "h = ymax - ymin\n",
    "central_y = int(ymin + (h/2))\n",
    "print(central_y)"
   ]
  },
  {
   "cell_type": "code",
   "execution_count": 39,
   "id": "answering-munich",
   "metadata": {},
   "outputs": [
    {
     "data": {
      "text/plain": [
       "True"
      ]
     },
     "execution_count": 39,
     "metadata": {},
     "output_type": "execute_result"
    }
   ],
   "source": [
    "### circle : cv2.circle ( 影像, 圓心座標, 半徑, 顏色, 線條寬度 )\n",
    "### 確定xmin, xmax, ymin, ymax點的位置\n",
    "\n",
    "import cv2\n",
    "\n",
    "gc = cv2.imread('./test_imgs/5cockroaches.jpg')\n",
    "\n",
    "gc = cv2.circle(gc, (xmin, ymin), 10, (255, 255, 0), 4)  # (xmin, ymin) = bbox 左上角\n",
    "cv2.imwrite('./01.jpg', gc)"
   ]
  },
  {
   "cell_type": "code",
   "execution_count": 40,
   "id": "actual-auction",
   "metadata": {},
   "outputs": [
    {
     "data": {
      "text/plain": [
       "True"
      ]
     },
     "execution_count": 40,
     "metadata": {},
     "output_type": "execute_result"
    }
   ],
   "source": [
    "gc = cv2.imread('./test_imgs/5cockroaches.jpg')\n",
    "\n",
    "gc = cv2.circle(gc, (xmax, ymax), 10, (255, 255, 0), 4)  # (xmax, ymax) = bbox 右上角\n",
    "cv2.imwrite('./02.jpg', gc)"
   ]
  },
  {
   "cell_type": "code",
   "execution_count": 43,
   "id": "yellow-bradford",
   "metadata": {},
   "outputs": [
    {
     "data": {
      "text/plain": [
       "True"
      ]
     },
     "execution_count": 43,
     "metadata": {},
     "output_type": "execute_result"
    }
   ],
   "source": [
    "import numpy as np\n",
    "\n",
    "gc = cv2.imread('./test_imgs/5cockroaches.jpg')\n",
    "\n",
    "gc = cv2.circle(gc, (central_x, central_y), 10, (255, 255, 0), 4)\n",
    "cv2.imwrite('./03.jpg', gc)"
   ]
  },
  {
   "cell_type": "code",
   "execution_count": 66,
   "id": "potential-delicious",
   "metadata": {},
   "outputs": [
    {
     "name": "stdout",
     "output_type": "stream",
     "text": [
      "xmin             207.43\n",
      "ymin            329.807\n",
      "xmax            316.076\n",
      "ymax            476.015\n",
      "confidence     0.979864\n",
      "class                 0\n",
      "name          cockroach\n",
      "Name: 0, dtype: object\n",
      "--------------------------------------------------\n",
      "xmin: 207.43\n"
     ]
    }
   ],
   "source": [
    "image_number = 0\n",
    "object_number = 0\n",
    "\n",
    "a = results.pandas().xyxy[image_number].loc[object_number]\n",
    "print(a)\n",
    "print(\"-\" * 50)\n",
    "print(\"xmin:\", round(results.pandas().xyxy[image_number].loc[object_number]['xmin'], 2))"
   ]
  },
  {
   "cell_type": "code",
   "execution_count": null,
   "id": "hourly-madness",
   "metadata": {},
   "outputs": [],
   "source": []
  }
 ],
 "metadata": {
  "kernelspec": {
   "display_name": "Python 3",
   "language": "python",
   "name": "python3"
  },
  "language_info": {
   "codemirror_mode": {
    "name": "ipython",
    "version": 3
   },
   "file_extension": ".py",
   "mimetype": "text/x-python",
   "name": "python",
   "nbconvert_exporter": "python",
   "pygments_lexer": "ipython3",
   "version": "3.6.9"
  }
 },
 "nbformat": 4,
 "nbformat_minor": 5
}
