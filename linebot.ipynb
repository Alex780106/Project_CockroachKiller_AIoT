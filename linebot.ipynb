{
 "cells": [
  {
   "cell_type": "code",
   "execution_count": 4,
   "id": "residential-cocktail",
   "metadata": {},
   "outputs": [
    {
     "name": "stdout",
     "output_type": "stream",
     "text": [
      "https://i.imgur.com/jjp6L32.jpg\n"
     ]
    }
   ],
   "source": [
    "from linebot import LineBotApi\n",
    "from linebot.models import TextSendMessage, ImageSendMessage\n",
    "import pyimgur\n",
    "\n",
    "# 必須放上自己的Channel Access Token\n",
    "line_bot_api = LineBotApi('zYXfWsIEAgAiqGoU62iLIdiPDsIVsz5t1W0lr3urkwyemRmrfTZBCKauljVvoYqKFX71W08VEzNuIceqtoqWRBIiAefZAo8fKXJV9HgpxuCv+DXUIbVc5v8RwsMbRqb9J014bZrgo+e3TYZoPD3Y4AdB04t89/1O/w1cDnyilFU=')\n",
    "# 請填入您的ID\n",
    "yourID = 'U61a52960fc6fb48ae57da4f63bf06497'\n",
    "# 主動推播文字訊息給用戶\n",
    "line_bot_api.push_message(yourID, \n",
    "                          TextSendMessage(text='主人，在您家發現蟑螂了!'))\n",
    "# 上傳照片到imgur，並取得https網址，再主動推播照片訊息給用戶\n",
    "CLIENT_ID = \"e0e5447c40d7cef\"\n",
    "image_path = '/workspace/jetbot/notebooks/object_following/cockroach_found.jpg' #A Filepath to an image on your computer\"\n",
    "\n",
    "im = pyimgur.Imgur(CLIENT_ID)\n",
    "uploaded_image = im.upload_image(image_path)\n",
    "link = uploaded_image.link\n",
    "print(link)\n",
    "line_bot_api.push_message(yourID, ImageSendMessage(original_content_url=link, preview_image_url=link))\n"
   ]
  },
  {
   "cell_type": "code",
   "execution_count": null,
   "id": "instrumental-genius",
   "metadata": {},
   "outputs": [],
   "source": []
  }
 ],
 "metadata": {
  "kernelspec": {
   "display_name": "Python 3",
   "language": "python",
   "name": "python3"
  },
  "language_info": {
   "codemirror_mode": {
    "name": "ipython",
    "version": 3
   },
   "file_extension": ".py",
   "mimetype": "text/x-python",
   "name": "python",
   "nbconvert_exporter": "python",
   "pygments_lexer": "ipython3",
   "version": "3.6.9"
  }
 },
 "nbformat": 4,
 "nbformat_minor": 5
}
