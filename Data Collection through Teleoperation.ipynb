{
 "cells": [
  {
   "cell_type": "markdown",
   "metadata": {},
   "source": [
    "# Data Collection through Teleoperation\n",
    "\n",
    "The code is modified from NVIDIA-AI-IOT/jetbot-GitHub.\\\n",
    "In this notebook we'll control the Jetbot remotely with a gamepad controller connected to our web browser machine to take a snapshot and moving around.\\\n",
    "\\\n",
    "本程式碼改寫自NVIDIA-AI-IOT/jetbot-GitHub\\\n",
    "使用本程式碼可透過控制器(gamepad)遠端控制jetbot蒐集照片資料"
   ]
  },
  {
   "cell_type": "markdown",
   "metadata": {},
   "source": [
    "### Create gamepad controller\n",
    "\n",
    "將控制器USB端接到``電腦``(注意：非接到jetson nano)，開啟以下網頁連結測試控制器並紀錄控制器參數\\\n",
    "接下來將會建立一個控制jetbot的``Controller``物件，其中``index``為控制器編號，若有多台控制器需注意編號以免建立物件時產生錯誤\n",
    "\n",
    "1. 進入以下連結 [http://html5gamepad.com](http://html5gamepad.com).  \n",
    "2. 按下控制器上的按鍵了解控制器對應參數\n",
    "3. 記下控制器編號以便建立控制器物件\n"
   ]
  },
  {
   "cell_type": "code",
   "execution_count": 2,
   "metadata": {},
   "outputs": [
    {
     "data": {
      "application/vnd.jupyter.widget-view+json": {
       "model_id": "3f07ee11cff04dd5a7b3e5de9a2592d5",
       "version_major": 2,
       "version_minor": 0
      },
      "text/plain": [
       "Controller()"
      ]
     },
     "metadata": {},
     "output_type": "display_data"
    }
   ],
   "source": [
    "import ipywidgets.widgets as widgets\n",
    "\n",
    "controller = widgets.Controller(index=0)  # 填入您的控制器的index\n",
    "\n",
    "display(controller)  # 實時顯示控制器面板"
   ]
  },
  {
   "cell_type": "markdown",
   "metadata": {},
   "source": [
    "第一次使用時，若填入的index正確且顯示``Connect gamepad and press any button``，則隨意按下任何控制器按鍵，控制器面板就會顯示在螢幕上"
   ]
  },
  {
   "cell_type": "markdown",
   "metadata": {},
   "source": [
    "### Connect gamepad controller to robot motors\n",
    "\n",
    "建立控制器連線後，接下來要建立控制器與馬達的連線\\\n",
    "這邊將控制器以中心分為左右，左邊搖桿/方向鍵(controller.axes[1])控制前後，右邊搖桿/控制鍵(controller.buttons[3]/[1])分別控制左右馬達\\\n",
    "修改lamda函數x的倍數可以更改馬達輸出力度(例：0.2代表馬達輸出20%馬力)"
   ]
  },
  {
   "cell_type": "code",
   "execution_count": 19,
   "metadata": {},
   "outputs": [],
   "source": [
    "from jetbot import Robot\n",
    "import traitlets\n",
    "\n",
    "robot = Robot()\n",
    "\n",
    "forward_link = traitlets.dlink((controller.axes[1], 'value'), (robot.left_motor, 'value'), transform=lambda x: -0.2*x)\n",
    "backward_link = traitlets.dlink((controller.axes[1], 'value'), (robot.right_motor, 'value'), transform=lambda x: -0.2*x)\n",
    "left_link = traitlets.dlink((controller.buttons[3], 'value'), (robot.left_motor, 'value'), transform=lambda x: -0.2*x)\n",
    "right_link = traitlets.dlink((controller.buttons[1], 'value'), (robot.right_motor, 'value'), transform=lambda x: -0.2*x)"
   ]
  },
  {
   "cell_type": "markdown",
   "metadata": {},
   "source": [
    "### Create and display Image widget\n",
    "\n",
    "接下來我們將建立相機的物件，並將相機取得的畫面實時顯示在螢幕上\n",
    "\n",
    "1. 首先建立camera的物件並調整長寬屬性\n",
    "2. 建立Image widget物件並將長寬調整和相機物件相同，檔案格式設定成jpeg\n",
    "3. 建立camera與image widget的連結(因camera取得的影像數值為BGR8(blue, green, red, 8bit)而image接受的影像為JPEG, 故需做transform轉換)"
   ]
  },
  {
   "cell_type": "code",
   "execution_count": 3,
   "metadata": {},
   "outputs": [
    {
     "data": {
      "application/vnd.jupyter.widget-view+json": {
       "model_id": "c94076b036ef4f4bae9dfe2d961afee0",
       "version_major": 2,
       "version_minor": 0
      },
      "text/plain": [
       "Image(value=b'', format='jpeg', height='224', width='224')"
      ]
     },
     "metadata": {},
     "output_type": "display_data"
    }
   ],
   "source": [
    "from jetbot import Camera\n",
    "from jetbot import bgr8_to_jpeg\n",
    "\n",
    "camera = Camera.instance(width=224, height=224)\n",
    "\n",
    "image = widgets.Image(format='jpeg', width=224, height=224)\n",
    "\n",
    "camera_link = traitlets.dlink((camera, 'value'), (image, 'value'), transform=bgr8_to_jpeg)\n",
    "\n",
    "display(image)"
   ]
  },
  {
   "cell_type": "markdown",
   "metadata": {},
   "source": [
    "進行到這步時，我們就可以坐在電腦前看著jetbot相機的實時畫面並用控制器遠端控制jetbot行動"
   ]
  },
  {
   "cell_type": "markdown",
   "metadata": {},
   "source": [
    "### Stop robot if network disconnects\n",
    "\n",
    "運行此程式碼區塊後，若不慎發生jetbot wifi斷線時，將自動切斷jetbot與控制器連線並停止馬達轉動，避免jetbot撞牆或墜落"
   ]
  },
  {
   "cell_type": "code",
   "execution_count": 6,
   "metadata": {},
   "outputs": [],
   "source": [
    "from jetbot import Heartbeat\n",
    "\n",
    "\n",
    "def handle_heartbeat_status(change):\n",
    "    if change['new'] == Heartbeat.Status.dead:\n",
    "        camera_link.unlink()\n",
    "        left_link.unlink()\n",
    "        right_link.unlink()\n",
    "        robot.stop()\n",
    "\n",
    "heartbeat = Heartbeat(period=0.5)\n",
    "\n",
    "# attach the callback function to heartbeat status\n",
    "heartbeat.observe(handle_heartbeat_status, names='status')"
   ]
  },
  {
   "cell_type": "markdown",
   "metadata": {},
   "source": [
    "### Reconnecting to the robot\n",
    "當發生wifi斷線jetbot連線中止後，可執行以下區塊程式碼恢復連線\\\n",
    "但若未發生前述情況不要請不要執行以下程式碼，避免造成多重連線問題；多重連線會導致後續一次拍攝多張重複照片"
   ]
  },
  {
   "cell_type": "code",
   "execution_count": 7,
   "metadata": {},
   "outputs": [],
   "source": [
    "# 先不要執行, 若連結斷掉再執行, 不然會出現重複多連結問題\n",
    "\n",
    "forward_link = traitlets.dlink((controller.axes[1], 'value'), (robot.left_motor, 'value'), transform=lambda x: -0.2x)\n",
    "backward_link = traitlets.dlink((controller.axes[1], 'value'), (robot.right_motor, 'value'), transform=lambda x: -0.2x)\n",
    "left_link = traitlets.dlink((controller.axes[0], 'value'), (robot.left_motor, 'value'), transform=lambda x: -0.2x)\n",
    "right_link = traitlets.dlink((controller.axes[0], 'value'), (robot.right_motor, 'value'), transform=lambda x: -0.2x)\n",
    "camera_link = traitlets.dlink((camera, 'value'), (image, 'value'), transform=bgr8_to_jpeg)"
   ]
  },
  {
   "cell_type": "markdown",
   "metadata": {},
   "source": [
    "### Save snapshots with gamepad button\n",
    "\n",
    "確認相機串流畫面沒有問題後，接下來我們將使用控制器按鈕來控制jetbot執行拍照動作\\\n",
    "\\\n",
    "本專案會需要蒐集三種類型照片：\n",
    "1. 障礙物照片\n",
    "2. 可行走空間照片\n",
    "3. 蟑螂照片\n",
    "blocked以及free照片用作jebot避障訓練，cockroach用作物體追蹤訓練\n",
    "\n",
    "因此，我們先建立三個資料夾，分別命名為blocked、free、cockroach，且將三個資料夾都置於datasets資料夾下方便管理\n"
   ]
  },
  {
   "cell_type": "code",
   "execution_count": 4,
   "metadata": {},
   "outputs": [
    {
     "name": "stdout",
     "output_type": "stream",
     "text": [
      "Directories not created because they already exist\n"
     ]
    }
   ],
   "source": [
    "import os\n",
    "\n",
    "cockroach_dir = './dataset/cockroach'\n",
    "blocked_dir = './dataset/blocked'\n",
    "free_dir = './dataset/free'\n",
    "\n",
    "try:\n",
    "    os.makedirs(cockroach_dir)\n",
    "    os.makedirs(blocked_dir)\n",
    "    os.makedirs(free_dir)\n",
    "except FileExistsError:\n",
    "    print('Directories not created because they already exist')"
   ]
  },
  {
   "cell_type": "markdown",
   "metadata": {},
   "source": [
    "接下來，我們分別定義三個函數save_cockroach, save_blocked, save_free來擷取照片\\\n",
    "並使用uuid套件給予照片流水號，使之名稱不重複"
   ]
  },
  {
   "cell_type": "code",
   "execution_count": null,
   "metadata": {},
   "outputs": [],
   "source": [
    "import uuid\n",
    "\n",
    "### cockroach\n",
    "cockroach_image = widgets.Image(format='jpeg', width=224, height=224)\n",
    "\n",
    "def save_cockroach(change):\n",
    "    # 當按鍵按下時會存照片\n",
    "    if change['new']:\n",
    "        file_path = './dataset/cockroach/' + str(uuid.uuid1()) + '.jpg'\n",
    "        \n",
    "        with open(file_path, 'wb') as f:  # 存jpeg格式的照片\n",
    "            f.write(image.value)\n",
    "            \n",
    "        cockroach_image.value = image.value  # 實時顯示存下的照片\n",
    "        cockroach_count.value = len(os.listdir(cockroach_dir))  # 計算已拍照片張數\n",
    "\n",
    "        \n",
    "### blocked\n",
    "blocked_image = widgets.Image(format='jpeg', width=224, height=224)\n",
    "\n",
    "def save_blocked(change):\n",
    "    if change['new']:\n",
    "        file_path = './dataset/blocked/' + str(uuid.uuid1()) + '.jpg'\n",
    "\n",
    "        with open(file_path, 'wb') as f:\n",
    "            f.write(image.value)\n",
    "            \n",
    "        blocked_image.value = image.value\n",
    "        blocked_count.value = len(os.listdir(blocked_dir))\n",
    "        \n",
    "\n",
    "### free\n",
    "free_image = widgets.Image(format='jpeg', width=224, height=224)\n",
    "\n",
    "def save_free(change):\n",
    "    if change['new']:\n",
    "        file_path = './dataset/free/' + str(uuid.uuid1()) + '.jpg'\n",
    "        \n",
    "        with open(file_path, 'wb') as f:\n",
    "            f.write(image.value)\n",
    "            \n",
    "        free_image.value = image.value\n",
    "        free_count.value = len(os.listdir(free_dir))\n",
    "\n",
    "        \n",
    "# 建立已拍照片張數實時顯示窗格\n",
    "button_layout = widgets.Layout(width='256px', height='64px')\n",
    "\n",
    "cockroach_count = widgets.IntText(layout=button_layout, value=len(os.listdir(cockroach_dir)), description='cockroach')\n",
    "blocked_count = widgets.IntText(layout=button_layout, value=len(os.listdir(blocked_dir)), description='blocked')\n",
    "free_count = widgets.IntText(layout=button_layout, value=len(os.listdir(free_dir)), description='free')\n",
    "\n",
    "\n",
    "# 連動控制器按鈕及自定義的拍照函數\n",
    "controller.buttons[5].observe(save_cockroach, names='value')\n",
    "controller.buttons[7].observe(save_blocked, names='value')\n",
    "controller.buttons[6].observe(save_free, names='value')\n",
    "        \n",
    "# 實時顯示相機串流畫面、各類最近一張拍攝照片及總拍攝張數\n",
    "display(widgets.HBox([free_count, blocked_count, cockroach_count]))\n",
    "display(widgets.HBox([image, free_image, blocked_image, cockroach_image]))\n"
   ]
  },
  {
   "cell_type": "markdown",
   "metadata": {},
   "source": [
    "照片資料收集完成後記得要關閉相機連線，以方便下次使用"
   ]
  },
  {
   "cell_type": "code",
   "execution_count": null,
   "metadata": {},
   "outputs": [],
   "source": [
    "camera.stop()"
   ]
  },
  {
   "cell_type": "markdown",
   "metadata": {},
   "source": [
    "## Next\n",
    "\n",
    "照片收集完成後，使用linux作業系統的zip指令壓縮打包dataset資料夾\\\n",
    "接著將dataset.zip複製到另外有GPU的主機或是雲端上進行訓練(在jetson nano 2GB上訓練可能會顯示記憶體不足)\n",
    "\n",
    "> ! 表示使用shell command\\\n",
    "> -r 表示recursive，加入此選項會將所有巢狀結構下資料夾都壓縮打包\\\n",
    "> -q 表示quiet，加入此選項在執行壓縮打包時將不會印出訊息\n"
   ]
  },
  {
   "cell_type": "code",
   "execution_count": null,
   "metadata": {},
   "outputs": [],
   "source": [
    "!zip -r -q dataset.zip dataset"
   ]
  },
  {
   "cell_type": "markdown",
   "metadata": {},
   "source": [
    "執行到此步驟在資料夾中應該可以看到dataset.zip檔了，可以將它下載到本地主機中或上傳雲端進行後續訓練"
   ]
  },
  {
   "cell_type": "markdown",
   "metadata": {},
   "source": [
    "### Conclusion\n",
    "\n",
    "本程式碼到此告一段落，若有疑問還請email聯繫，謝謝"
   ]
  },
  {
   "cell_type": "code",
   "execution_count": null,
   "metadata": {},
   "outputs": [],
   "source": []
  }
 ],
 "metadata": {
  "kernelspec": {
   "display_name": "Python 3",
   "language": "python",
   "name": "python3"
  },
  "language_info": {
   "codemirror_mode": {
    "name": "ipython",
    "version": 3
   },
   "file_extension": ".py",
   "mimetype": "text/x-python",
   "name": "python",
   "nbconvert_exporter": "python",
   "pygments_lexer": "ipython3",
   "version": "3.6.13"
  }
 },
 "nbformat": 4,
 "nbformat_minor": 4
}
